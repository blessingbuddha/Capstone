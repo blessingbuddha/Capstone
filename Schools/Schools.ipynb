{
 "cells": [
  {
   "cell_type": "code",
   "execution_count": 2,
   "metadata": {},
   "outputs": [],
   "source": [
    "import pandas as pd"
   ]
  },
  {
   "cell_type": "code",
   "execution_count": 4,
   "metadata": {},
   "outputs": [],
   "source": [
    "# Load the necessary dataframes\n",
    "ratings_df = pd.read_csv('./statewideoverallaccountabilityratings2022.csv')\n",
    "schools_df = pd.read_csv('./Schools_2022_to_2023.csv')\n",
    "\n"
   ]
  },
  {
   "cell_type": "code",
   "execution_count": 5,
   "metadata": {},
   "outputs": [],
   "source": [
    "# Filter out the Harris County schools from the schools dataframe\n",
    "harris_schools_df = schools_df[schools_df['USER_County_Name'].str.upper() == 'HARRIS COUNTY']\n",
    "\n"
   ]
  },
  {
   "cell_type": "code",
   "execution_count": 12,
   "metadata": {},
   "outputs": [],
   "source": [
    "# Extract the relevant address and zip code information\n",
    "harris_schools_info = harris_schools_df[['USER_District_Number', 'USER_District_Name', 'StAddr', 'City', 'Postal']]"
   ]
  },
  {
   "cell_type": "code",
   "execution_count": null,
   "metadata": {},
   "outputs": [],
   "source": [
    "# Display the head of the Harris County schools information dataframe\n",
    "harris_schools_info.head()"
   ]
  },
  {
   "cell_type": "code",
   "execution_count": null,
   "metadata": {},
   "outputs": [],
   "source": [
    "# Print out the columns of the schools dataframe to identify the correct column names\n",
    "print(schools_df.columns)"
   ]
  },
  {
   "cell_type": "code",
   "execution_count": null,
   "metadata": {},
   "outputs": [],
   "source": [
    "# Merge the address and zip code information with the ratings dataframe\n",
    "# We use left merge to ensure all entries in the ratings dataframe are kept\n",
    "merged_df = pd.merge(ratings_df, harris_schools_info, how='left', left_on='District\\nNumber', right_on='USER_District_Number')\n",
    "\n",
    "# Display the head of the merged dataframe to verify the merge\n",
    "merged_df.head()"
   ]
  },
  {
   "cell_type": "code",
   "execution_count": null,
   "metadata": {},
   "outputs": [],
   "source": [
    "# Print out the columns of the ratings dataframe to identify the correct column names\n",
    "print(ratings_df.columns)"
   ]
  },
  {
   "cell_type": "code",
   "execution_count": 18,
   "metadata": {},
   "outputs": [],
   "source": [
    "# Save the merged dataframe to a new CSV file\n",
    "merged_df.to_csv('merged_school_data.csv', index=False)\n"
   ]
  },
  {
   "cell_type": "code",
   "execution_count": 23,
   "metadata": {},
   "outputs": [],
   "source": [
    "# Filter the merged dataframe for schools in Harris County only\n",
    "harris_county_schools = merged_df[merged_df['County'].str.contains('HARRIS', case=False, na=False)]"
   ]
  },
  {
   "cell_type": "code",
   "execution_count": 25,
   "metadata": {},
   "outputs": [
    {
     "ename": "",
     "evalue": "",
     "output_type": "error",
     "traceback": [
      "\u001b[1;31mThe Kernel crashed while executing code in the the current cell or a previous cell. Please review the code in the cell(s) to identify a possible cause of the failure. Click <a href='https://aka.ms/vscodeJupyterKernelCrash'>here</a> for more info. View Jupyter <a href='command:jupyter.viewOutput'>log</a> for further details."
     ]
    }
   ],
   "source": [
    "harris_county_schools.to_csv('harris_county_schools.csv', index=False)"
   ]
  }
 ],
 "metadata": {
  "kernelspec": {
   "display_name": "Python 3",
   "language": "python",
   "name": "python3"
  },
  "language_info": {
   "codemirror_mode": {
    "name": "ipython",
    "version": 3
   },
   "file_extension": ".py",
   "mimetype": "text/x-python",
   "name": "python",
   "nbconvert_exporter": "python",
   "pygments_lexer": "ipython3",
   "version": "3.11.5"
  }
 },
 "nbformat": 4,
 "nbformat_minor": 2
}
